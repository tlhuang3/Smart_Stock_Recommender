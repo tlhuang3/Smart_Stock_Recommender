{
 "cells": [
  {
   "cell_type": "code",
   "execution_count": 1,
   "id": "d7af05cd-b0d1-408e-a205-7ae4860efed4",
   "metadata": {},
   "outputs": [],
   "source": [
    "import numpy as np\n",
    "\n",
    "import pandas as pd"
   ]
  },
  {
   "cell_type": "code",
   "execution_count": 2,
   "id": "910ecccb-4b93-44ce-abf5-c1bb2b60ffcf",
   "metadata": {},
   "outputs": [],
   "source": [
    "df = pd.read_csv('../../Week9_Start_of_Project/Technical_Assignment/From_001_Financial_BoZhang_notebook _ app-BZ/0-0-all_news_pc_with_hs_by_news.csv', index_col = [0])"
   ]
  },
  {
   "cell_type": "code",
   "execution_count": 3,
   "id": "ca9b395f-755c-4bbd-9ec3-82ba7316bb09",
   "metadata": {},
   "outputs": [
    {
     "data": {
      "text/html": [
       "<div>\n",
       "<style scoped>\n",
       "    .dataframe tbody tr th:only-of-type {\n",
       "        vertical-align: middle;\n",
       "    }\n",
       "\n",
       "    .dataframe tbody tr th {\n",
       "        vertical-align: top;\n",
       "    }\n",
       "\n",
       "    .dataframe thead th {\n",
       "        text-align: right;\n",
       "    }\n",
       "</style>\n",
       "<table border=\"1\" class=\"dataframe\">\n",
       "  <thead>\n",
       "    <tr style=\"text-align: right;\">\n",
       "      <th></th>\n",
       "      <th>datetime</th>\n",
       "      <th>headline</th>\n",
       "      <th>id</th>\n",
       "      <th>related</th>\n",
       "      <th>summary</th>\n",
       "      <th>symbol</th>\n",
       "      <th>pos</th>\n",
       "      <th>neg</th>\n",
       "      <th>neu</th>\n",
       "      <th>date_x</th>\n",
       "      <th>...</th>\n",
       "      <th>senti_prob</th>\n",
       "      <th>senti_score</th>\n",
       "      <th>rele_score</th>\n",
       "      <th>rep_score</th>\n",
       "      <th>km_label</th>\n",
       "      <th>h_label</th>\n",
       "      <th>sf1BD</th>\n",
       "      <th>non_neu_prob</th>\n",
       "      <th>price_change</th>\n",
       "      <th>date_y</th>\n",
       "    </tr>\n",
       "  </thead>\n",
       "  <tbody>\n",
       "    <tr>\n",
       "      <th>19</th>\n",
       "      <td>1637100240</td>\n",
       "      <td>Cisco earnings should benefit from enterprise ...</td>\n",
       "      <td>72570871</td>\n",
       "      <td>CSCO</td>\n",
       "      <td>Cisco Systems Inc. could benefit from an enter...</td>\n",
       "      <td>CSCO</td>\n",
       "      <td>0.087981</td>\n",
       "      <td>0.854546</td>\n",
       "      <td>0.057473</td>\n",
       "      <td>2021-11-16</td>\n",
       "      <td>...</td>\n",
       "      <td>-0.854546</td>\n",
       "      <td>-1</td>\n",
       "      <td>1</td>\n",
       "      <td>600</td>\n",
       "      <td>1</td>\n",
       "      <td>0</td>\n",
       "      <td>2021-11-17</td>\n",
       "      <td>0.942527</td>\n",
       "      <td>-0.004211</td>\n",
       "      <td>2021-11-17</td>\n",
       "    </tr>\n",
       "    <tr>\n",
       "      <th>20</th>\n",
       "      <td>1637092567</td>\n",
       "      <td>Reflecting on Twenty Years of NetHope</td>\n",
       "      <td>72570872</td>\n",
       "      <td>CSCO</td>\n",
       "      <td>By Tae Yoo</td>\n",
       "      <td>CSCO</td>\n",
       "      <td>0.084133</td>\n",
       "      <td>0.016231</td>\n",
       "      <td>0.899635</td>\n",
       "      <td>2021-11-16</td>\n",
       "      <td>...</td>\n",
       "      <td>0.000000</td>\n",
       "      <td>0</td>\n",
       "      <td>2</td>\n",
       "      <td>600</td>\n",
       "      <td>1</td>\n",
       "      <td>0</td>\n",
       "      <td>2021-11-17</td>\n",
       "      <td>0.100365</td>\n",
       "      <td>-0.004211</td>\n",
       "      <td>2021-11-17</td>\n",
       "    </tr>\n",
       "    <tr>\n",
       "      <th>21</th>\n",
       "      <td>1637083620</td>\n",
       "      <td>Cisco’s Earnings Are Wednesday. Expect News on...</td>\n",
       "      <td>72570897</td>\n",
       "      <td>CSCO</td>\n",
       "      <td>Cisco Systems  results, due after the close of...</td>\n",
       "      <td>CSCO</td>\n",
       "      <td>0.028773</td>\n",
       "      <td>0.040429</td>\n",
       "      <td>0.930797</td>\n",
       "      <td>2021-11-16</td>\n",
       "      <td>...</td>\n",
       "      <td>0.000000</td>\n",
       "      <td>0</td>\n",
       "      <td>2</td>\n",
       "      <td>600</td>\n",
       "      <td>1</td>\n",
       "      <td>0</td>\n",
       "      <td>2021-11-17</td>\n",
       "      <td>0.069203</td>\n",
       "      <td>-0.004211</td>\n",
       "      <td>2021-11-17</td>\n",
       "    </tr>\n",
       "    <tr>\n",
       "      <th>22</th>\n",
       "      <td>1637079991</td>\n",
       "      <td>Dish, Cisco Collaborate To Sell 5G To Enterprises</td>\n",
       "      <td>72558989</td>\n",
       "      <td>CSCO</td>\n",
       "      <td>DISH Network Corp (NASDAQ: DISH) collaborated ...</td>\n",
       "      <td>CSCO</td>\n",
       "      <td>0.213866</td>\n",
       "      <td>0.007034</td>\n",
       "      <td>0.779100</td>\n",
       "      <td>2021-11-16</td>\n",
       "      <td>...</td>\n",
       "      <td>0.000000</td>\n",
       "      <td>0</td>\n",
       "      <td>1</td>\n",
       "      <td>200</td>\n",
       "      <td>0</td>\n",
       "      <td>2</td>\n",
       "      <td>2021-11-17</td>\n",
       "      <td>0.220900</td>\n",
       "      <td>-0.004211</td>\n",
       "      <td>2021-11-17</td>\n",
       "    </tr>\n",
       "    <tr>\n",
       "      <th>23</th>\n",
       "      <td>1637075955</td>\n",
       "      <td>Silicon Photonics Explained: Cisco Optics Podc...</td>\n",
       "      <td>72560643</td>\n",
       "      <td>CSCO</td>\n",
       "      <td>Episode 16 of the Cisco Optics Podcast is now ...</td>\n",
       "      <td>CSCO</td>\n",
       "      <td>0.020617</td>\n",
       "      <td>0.046141</td>\n",
       "      <td>0.933241</td>\n",
       "      <td>2021-11-16</td>\n",
       "      <td>...</td>\n",
       "      <td>0.000000</td>\n",
       "      <td>0</td>\n",
       "      <td>1</td>\n",
       "      <td>600</td>\n",
       "      <td>1</td>\n",
       "      <td>0</td>\n",
       "      <td>2021-11-17</td>\n",
       "      <td>0.066759</td>\n",
       "      <td>-0.004211</td>\n",
       "      <td>2021-11-17</td>\n",
       "    </tr>\n",
       "    <tr>\n",
       "      <th>...</th>\n",
       "      <td>...</td>\n",
       "      <td>...</td>\n",
       "      <td>...</td>\n",
       "      <td>...</td>\n",
       "      <td>...</td>\n",
       "      <td>...</td>\n",
       "      <td>...</td>\n",
       "      <td>...</td>\n",
       "      <td>...</td>\n",
       "      <td>...</td>\n",
       "      <td>...</td>\n",
       "      <td>...</td>\n",
       "      <td>...</td>\n",
       "      <td>...</td>\n",
       "      <td>...</td>\n",
       "      <td>...</td>\n",
       "      <td>...</td>\n",
       "      <td>...</td>\n",
       "      <td>...</td>\n",
       "      <td>...</td>\n",
       "      <td>...</td>\n",
       "    </tr>\n",
       "    <tr>\n",
       "      <th>518977</th>\n",
       "      <td>1606755420</td>\n",
       "      <td>PPL Corp. stock underperforms Monday when comp...</td>\n",
       "      <td>61547652</td>\n",
       "      <td>PPL</td>\n",
       "      <td>Shares of PPL Corp. shed 2.37% to $28.42 Monda...</td>\n",
       "      <td>PPL</td>\n",
       "      <td>0.051392</td>\n",
       "      <td>0.934510</td>\n",
       "      <td>0.014097</td>\n",
       "      <td>2020-11-30</td>\n",
       "      <td>...</td>\n",
       "      <td>-0.934510</td>\n",
       "      <td>-1</td>\n",
       "      <td>1</td>\n",
       "      <td>100</td>\n",
       "      <td>3</td>\n",
       "      <td>4</td>\n",
       "      <td>2020-12-01</td>\n",
       "      <td>0.985903</td>\n",
       "      <td>-0.002111</td>\n",
       "      <td>2020-12-01</td>\n",
       "    </tr>\n",
       "    <tr>\n",
       "      <th>518978</th>\n",
       "      <td>1606722567</td>\n",
       "      <td>CANADA STOCKS-TSX futures drop as oil prices f...</td>\n",
       "      <td>61540363</td>\n",
       "      <td>PPL</td>\n",
       "      <td>Futures for Canada's main stock index fell on ...</td>\n",
       "      <td>PPL</td>\n",
       "      <td>0.007182</td>\n",
       "      <td>0.969203</td>\n",
       "      <td>0.023615</td>\n",
       "      <td>2020-11-30</td>\n",
       "      <td>...</td>\n",
       "      <td>-0.969203</td>\n",
       "      <td>-1</td>\n",
       "      <td>4</td>\n",
       "      <td>600</td>\n",
       "      <td>1</td>\n",
       "      <td>0</td>\n",
       "      <td>2020-12-01</td>\n",
       "      <td>0.976386</td>\n",
       "      <td>-0.002111</td>\n",
       "      <td>2020-12-01</td>\n",
       "    </tr>\n",
       "    <tr>\n",
       "      <th>518979</th>\n",
       "      <td>1606497060</td>\n",
       "      <td>PPL Corp. stock falls Friday, underperforms ma...</td>\n",
       "      <td>61525250</td>\n",
       "      <td>PPL</td>\n",
       "      <td>Shares of PPL Corp. slumped 0.95% to $29.11 Fr...</td>\n",
       "      <td>PPL</td>\n",
       "      <td>0.019904</td>\n",
       "      <td>0.965564</td>\n",
       "      <td>0.014532</td>\n",
       "      <td>2020-11-27</td>\n",
       "      <td>...</td>\n",
       "      <td>-0.965564</td>\n",
       "      <td>-1</td>\n",
       "      <td>1</td>\n",
       "      <td>100</td>\n",
       "      <td>3</td>\n",
       "      <td>4</td>\n",
       "      <td>2020-11-30</td>\n",
       "      <td>0.985468</td>\n",
       "      <td>-0.023703</td>\n",
       "      <td>2020-11-30</td>\n",
       "    </tr>\n",
       "    <tr>\n",
       "      <th>518982</th>\n",
       "      <td>1606236960</td>\n",
       "      <td>PPL Corp. stock rises Tuesday, outperforms market</td>\n",
       "      <td>61486497</td>\n",
       "      <td>PPL</td>\n",
       "      <td>Shares of PPL Corp. rallied 2.30% to $30.68 Tu...</td>\n",
       "      <td>PPL</td>\n",
       "      <td>0.907800</td>\n",
       "      <td>0.061747</td>\n",
       "      <td>0.030453</td>\n",
       "      <td>2020-11-24</td>\n",
       "      <td>...</td>\n",
       "      <td>0.907800</td>\n",
       "      <td>1</td>\n",
       "      <td>1</td>\n",
       "      <td>100</td>\n",
       "      <td>3</td>\n",
       "      <td>4</td>\n",
       "      <td>2020-11-25</td>\n",
       "      <td>0.969547</td>\n",
       "      <td>-0.042047</td>\n",
       "      <td>2020-11-25</td>\n",
       "    </tr>\n",
       "    <tr>\n",
       "      <th>518983</th>\n",
       "      <td>1606168560</td>\n",
       "      <td>PPL Corp. stock outperforms market on strong t...</td>\n",
       "      <td>61462723</td>\n",
       "      <td>PPL</td>\n",
       "      <td>Shares of PPL Corp. rose 2.88% to $29.99 Monda...</td>\n",
       "      <td>PPL</td>\n",
       "      <td>0.598607</td>\n",
       "      <td>0.373236</td>\n",
       "      <td>0.028158</td>\n",
       "      <td>2020-11-23</td>\n",
       "      <td>...</td>\n",
       "      <td>0.598607</td>\n",
       "      <td>1</td>\n",
       "      <td>1</td>\n",
       "      <td>300</td>\n",
       "      <td>4</td>\n",
       "      <td>1</td>\n",
       "      <td>2020-11-24</td>\n",
       "      <td>0.971842</td>\n",
       "      <td>0.023008</td>\n",
       "      <td>2020-11-24</td>\n",
       "    </tr>\n",
       "  </tbody>\n",
       "</table>\n",
       "<p>501523 rows × 21 columns</p>\n",
       "</div>"
      ],
      "text/plain": [
       "          datetime                                           headline  \\\n",
       "19      1637100240  Cisco earnings should benefit from enterprise ...   \n",
       "20      1637092567              Reflecting on Twenty Years of NetHope   \n",
       "21      1637083620  Cisco’s Earnings Are Wednesday. Expect News on...   \n",
       "22      1637079991  Dish, Cisco Collaborate To Sell 5G To Enterprises   \n",
       "23      1637075955  Silicon Photonics Explained: Cisco Optics Podc...   \n",
       "...            ...                                                ...   \n",
       "518977  1606755420  PPL Corp. stock underperforms Monday when comp...   \n",
       "518978  1606722567  CANADA STOCKS-TSX futures drop as oil prices f...   \n",
       "518979  1606497060  PPL Corp. stock falls Friday, underperforms ma...   \n",
       "518982  1606236960  PPL Corp. stock rises Tuesday, outperforms market   \n",
       "518983  1606168560  PPL Corp. stock outperforms market on strong t...   \n",
       "\n",
       "              id related                                            summary  \\\n",
       "19      72570871    CSCO  Cisco Systems Inc. could benefit from an enter...   \n",
       "20      72570872    CSCO                                         By Tae Yoo   \n",
       "21      72570897    CSCO  Cisco Systems  results, due after the close of...   \n",
       "22      72558989    CSCO  DISH Network Corp (NASDAQ: DISH) collaborated ...   \n",
       "23      72560643    CSCO  Episode 16 of the Cisco Optics Podcast is now ...   \n",
       "...          ...     ...                                                ...   \n",
       "518977  61547652     PPL  Shares of PPL Corp. shed 2.37% to $28.42 Monda...   \n",
       "518978  61540363     PPL  Futures for Canada's main stock index fell on ...   \n",
       "518979  61525250     PPL  Shares of PPL Corp. slumped 0.95% to $29.11 Fr...   \n",
       "518982  61486497     PPL  Shares of PPL Corp. rallied 2.30% to $30.68 Tu...   \n",
       "518983  61462723     PPL  Shares of PPL Corp. rose 2.88% to $29.99 Monda...   \n",
       "\n",
       "       symbol       pos       neg       neu      date_x  ... senti_prob  \\\n",
       "19       CSCO  0.087981  0.854546  0.057473  2021-11-16  ...  -0.854546   \n",
       "20       CSCO  0.084133  0.016231  0.899635  2021-11-16  ...   0.000000   \n",
       "21       CSCO  0.028773  0.040429  0.930797  2021-11-16  ...   0.000000   \n",
       "22       CSCO  0.213866  0.007034  0.779100  2021-11-16  ...   0.000000   \n",
       "23       CSCO  0.020617  0.046141  0.933241  2021-11-16  ...   0.000000   \n",
       "...       ...       ...       ...       ...         ...  ...        ...   \n",
       "518977    PPL  0.051392  0.934510  0.014097  2020-11-30  ...  -0.934510   \n",
       "518978    PPL  0.007182  0.969203  0.023615  2020-11-30  ...  -0.969203   \n",
       "518979    PPL  0.019904  0.965564  0.014532  2020-11-27  ...  -0.965564   \n",
       "518982    PPL  0.907800  0.061747  0.030453  2020-11-24  ...   0.907800   \n",
       "518983    PPL  0.598607  0.373236  0.028158  2020-11-23  ...   0.598607   \n",
       "\n",
       "        senti_score  rele_score  rep_score  km_label  h_label       sf1BD  \\\n",
       "19               -1           1        600         1        0  2021-11-17   \n",
       "20                0           2        600         1        0  2021-11-17   \n",
       "21                0           2        600         1        0  2021-11-17   \n",
       "22                0           1        200         0        2  2021-11-17   \n",
       "23                0           1        600         1        0  2021-11-17   \n",
       "...             ...         ...        ...       ...      ...         ...   \n",
       "518977           -1           1        100         3        4  2020-12-01   \n",
       "518978           -1           4        600         1        0  2020-12-01   \n",
       "518979           -1           1        100         3        4  2020-11-30   \n",
       "518982            1           1        100         3        4  2020-11-25   \n",
       "518983            1           1        300         4        1  2020-11-24   \n",
       "\n",
       "       non_neu_prob  price_change      date_y  \n",
       "19         0.942527     -0.004211  2021-11-17  \n",
       "20         0.100365     -0.004211  2021-11-17  \n",
       "21         0.069203     -0.004211  2021-11-17  \n",
       "22         0.220900     -0.004211  2021-11-17  \n",
       "23         0.066759     -0.004211  2021-11-17  \n",
       "...             ...           ...         ...  \n",
       "518977     0.985903     -0.002111  2020-12-01  \n",
       "518978     0.976386     -0.002111  2020-12-01  \n",
       "518979     0.985468     -0.023703  2020-11-30  \n",
       "518982     0.969547     -0.042047  2020-11-25  \n",
       "518983     0.971842      0.023008  2020-11-24  \n",
       "\n",
       "[501523 rows x 21 columns]"
      ]
     },
     "execution_count": 3,
     "metadata": {},
     "output_type": "execute_result"
    }
   ],
   "source": [
    "df"
   ]
  },
  {
   "cell_type": "code",
   "execution_count": 4,
   "id": "1ccd2ff4-89eb-453c-a37c-a35fb2a75f55",
   "metadata": {},
   "outputs": [],
   "source": [
    "# define >0 as 1; <=0 as 0\n",
    "def to_pc_class (x):\n",
    "    if x > 0:\n",
    "        return 1\n",
    "    else:\n",
    "        return 0\n",
    "# def to_pc_class (x):\n",
    "#     if x >= 0.03:\n",
    "#         return 1\n",
    "#     else:\n",
    "#         return 0"
   ]
  },
  {
   "cell_type": "code",
   "execution_count": 5,
   "id": "986c51df-a33a-4eb4-be8a-9b5764c618f2",
   "metadata": {},
   "outputs": [
    {
     "data": {
      "text/plain": [
       "datetime            0\n",
       "headline            0\n",
       "id                  0\n",
       "related             0\n",
       "summary         18038\n",
       "symbol              0\n",
       "pos                 0\n",
       "neg                 0\n",
       "neu                 0\n",
       "date_x              0\n",
       "sector              0\n",
       "senti_prob          0\n",
       "senti_score         0\n",
       "rele_score          0\n",
       "rep_score           0\n",
       "km_label            0\n",
       "h_label             0\n",
       "sf1BD               0\n",
       "non_neu_prob        0\n",
       "price_change        0\n",
       "date_y              0\n",
       "dtype: int64"
      ]
     },
     "execution_count": 5,
     "metadata": {},
     "output_type": "execute_result"
    }
   ],
   "source": [
    "df.isnull().sum()"
   ]
  },
  {
   "cell_type": "code",
   "execution_count": 6,
   "id": "71c2db43-4be2-4153-b99a-e09ae681b3ae",
   "metadata": {},
   "outputs": [],
   "source": [
    "#Take out <3%\n",
    "def take3out(x):\n",
    "    if abs(x) <0.03:\n",
    "        x = np.nan\n",
    "    return x"
   ]
  },
  {
   "cell_type": "code",
   "execution_count": 7,
   "id": "db4f74b3-0e5b-4f2c-8e87-b9833ccd8aa0",
   "metadata": {},
   "outputs": [],
   "source": [
    "df['price_change'] = df['price_change'].map(take3out)"
   ]
  },
  {
   "cell_type": "code",
   "execution_count": 8,
   "id": "4717ef49-4765-4f31-80fd-d0ba06fa91da",
   "metadata": {},
   "outputs": [],
   "source": [
    "df.dropna(subset=['price_change'],inplace=True)"
   ]
  },
  {
   "cell_type": "code",
   "execution_count": 9,
   "id": "10ddb1c9-3221-42ff-aa8c-1ecf83a298a8",
   "metadata": {},
   "outputs": [],
   "source": [
    "df.reset_index(inplace=True)"
   ]
  },
  {
   "cell_type": "code",
   "execution_count": 10,
   "id": "e2a35b81-3032-4d26-a11e-c6339d83ae24",
   "metadata": {},
   "outputs": [],
   "source": [
    "df['pc_class']=df['price_change'].map(to_pc_class)"
   ]
  },
  {
   "cell_type": "code",
   "execution_count": 11,
   "id": "e5c29d62-517a-458a-a3f9-81cd14a95205",
   "metadata": {
    "tags": []
   },
   "outputs": [],
   "source": [
    "X = df[\"headline\"].fillna(\"fillna\")\n",
    "y = df[\"pc_class\"]"
   ]
  },
  {
   "cell_type": "code",
   "execution_count": 12,
   "id": "24ebb306-3877-40ca-9d7d-2809be5dc765",
   "metadata": {},
   "outputs": [],
   "source": [
    "split_test = int(len(y) * 0.7)\n",
    "X_train = X[0:split_test]\n",
    "X_test = X[split_test:]\n",
    "y_train = y[0:split_test]\n",
    "y_test = y[split_test:]"
   ]
  },
  {
   "cell_type": "code",
   "execution_count": 13,
   "id": "f1e76bb5-3659-4ae2-935b-9548e6e3d9fb",
   "metadata": {},
   "outputs": [
    {
     "data": {
      "text/plain": [
       "0        Dow Jones Futures: Stock Market Sells Off As F...\n",
       "1        Cisco Earnings Matched Expectations. Why the S...\n",
       "2        Cisco Predicts Profit Squeeze on Higher Supply...\n",
       "3        Cisco's profit forecast disappoints on supply ...\n",
       "4        Markets Skid into Close, NVIDIA and Cisco Beat...\n",
       "                               ...                        \n",
       "34513    Why Elon Musk Can't Wrap His Head Around Tesla...\n",
       "34514    Tesla recalls nearly 12,000 U.S. vehicles over...\n",
       "34515    Volkswagen Beats Xpeng, Li Auto And Nio Number...\n",
       "34516    Musk says Tesla has not signed a contract with...\n",
       "34517    Tesla recalls nearly 12,000 U.S. vehicles over...\n",
       "Name: headline, Length: 34518, dtype: object"
      ]
     },
     "execution_count": 13,
     "metadata": {},
     "output_type": "execute_result"
    }
   ],
   "source": [
    "X_train"
   ]
  },
  {
   "cell_type": "code",
   "execution_count": 15,
   "id": "3e63086c-91c8-4913-85b0-6984d373621e",
   "metadata": {},
   "outputs": [
    {
     "data": {
      "text/plain": [
       "<matplotlib.axes._subplots.AxesSubplot at 0x1218095b0>"
      ]
     },
     "execution_count": 15,
     "metadata": {},
     "output_type": "execute_result"
    },
    {
     "data": {
      "image/png": "[encoded data removed]",
      "text/plain": [
       "<Figure size 432x288 with 1 Axes>"
      ]
     },
     "metadata": {},
     "output_type": "display_data"
    }
   ],
   "source": [
    "import matplotlib.pylab as plt\n",
    "%matplotlib inline\n",
    "y.value_counts().plot(kind='pie')"
   ]
  },
  {
   "cell_type": "code",
   "execution_count": 16,
   "id": "1e92cf50-e620-445b-ae54-3515e7070090",
   "metadata": {},
   "outputs": [],
   "source": [
    "import nltk\n",
    "import re\n",
    "from nltk.corpus import stopwords"
   ]
  },
  {
   "cell_type": "code",
   "execution_count": 17,
   "id": "7c7a8627-46da-4bd4-810e-cf7d6fa32449",
   "metadata": {
    "tags": []
   },
   "outputs": [],
   "source": [
    "# #Dataset Preprosessing\n",
    "# from nltk.stem.porter import PorterStemmer\n",
    "# def stem_tokenizer(text):\n",
    "#     ps = PorterStemmer()\n",
    "#     corpus = []\n",
    "#     for i in range(len(X)):\n",
    "\n",
    "#         headline= re.sub('[^a-zA-Z]',' ',X[i])\n",
    "        \n",
    "#         headline = headline.lower()\n",
    "#         # stopwords like “not”,\"aren't\" will be removed, will cause problems.\n",
    "#         headline = headline.split()\n",
    "#         headline = [ps.stem(word) for word in headline]\n",
    "#         headline = ' '.join(headline)\n",
    "#         corpus.append(headline)\n",
    "#     return corpus\n",
    "    "
   ]
  },
  {
   "cell_type": "code",
   "execution_count": 18,
   "id": "4455a6bb-3c92-4d48-b461-448a7ed779cf",
   "metadata": {},
   "outputs": [],
   "source": [
    "from nltk.stem.porter import PorterStemmer\n",
    "def stem_tokenizer(text):\n",
    "    ps = PorterStemmer()\n",
    "    words = re.sub(r\"[^A-Za-z0-9\\-]\", \" \", text).lower().split()\n",
    "    words = [ps.stem(word) for word in words]\n",
    "    return words "
   ]
  },
  {
   "cell_type": "code",
   "execution_count": 19,
   "id": "4f8c34d6-7a81-4589-b9c3-e00fb716f4b4",
   "metadata": {
    "tags": []
   },
   "outputs": [],
   "source": [
    "from sklearn.feature_extraction.text import CountVectorizer"
   ]
  },
  {
   "cell_type": "code",
   "execution_count": 20,
   "id": "ea4d5457-49f8-47ba-a793-3121c07e6f86",
   "metadata": {
    "tags": []
   },
   "outputs": [],
   "source": [
    "cv = CountVectorizer(\n",
    "                     tokenizer=stem_tokenizer,\n",
    "                    max_df=0.5,\n",
    "                    min_df=5,\n",
    "                    ngram_range=(1, 2))"
   ]
  },
  {
   "cell_type": "code",
   "execution_count": 21,
   "id": "9dcb8bf8-d1bb-4e94-ba2c-188addd81a92",
   "metadata": {
    "tags": []
   },
   "outputs": [],
   "source": [
    "# cv.fit_transform(X_train[1:500])"
   ]
  },
  {
   "cell_type": "markdown",
   "id": "8637a5fc-db82-4b61-a36d-b372b2e441e7",
   "metadata": {},
   "source": [
    "# Logistic Regression Model"
   ]
  },
  {
   "cell_type": "code",
   "execution_count": 22,
   "id": "d30862f4-fc94-48f1-a8bc-804fe7ec1811",
   "metadata": {},
   "outputs": [],
   "source": [
    "from sklearn.linear_model import LogisticRegression\n",
    "from sklearn.pipeline import Pipeline"
   ]
  },
  {
   "cell_type": "code",
   "execution_count": 23,
   "id": "7f4e0d86-7b79-4b81-9ef4-c15c97abcad7",
   "metadata": {},
   "outputs": [],
   "source": [
    "# lg = LogisticRegression(penalty='l1', C = 1, solver = 'saga', n_jobs =-1)\n",
    "# lg = LogisticRegression()"
   ]
  },
  {
   "cell_type": "code",
   "execution_count": 24,
   "id": "35cdc14c-cb51-48d0-a49a-421f0f761001",
   "metadata": {},
   "outputs": [],
   "source": [
    "steps = [('cv',cv),\n",
    "        ('lg',LogisticRegression(max_iter = 1000))]\n",
    "lg_model = Pipeline(steps)"
   ]
  },
  {
   "cell_type": "code",
   "execution_count": 25,
   "id": "3e593871-2b0c-4dc9-a8ea-18e7225c3f10",
   "metadata": {},
   "outputs": [
    {
     "data": {
      "text/plain": [
       "Pipeline(steps=[('cv',\n",
       "                 CountVectorizer(max_df=0.5, min_df=5, ngram_range=(1, 2),\n",
       "                                 tokenizer=<function stem_tokenizer at 0x1230363a0>)),\n",
       "                ('lg', LogisticRegression(max_iter=1000))])"
      ]
     },
     "execution_count": 25,
     "metadata": {},
     "output_type": "execute_result"
    }
   ],
   "source": [
    "\n",
    "lg_model.fit(X_train,y_train)"
   ]
  },
  {
   "cell_type": "code",
   "execution_count": 26,
   "id": "80e7adf3-bd1c-4251-8f0a-a35b63176e69",
   "metadata": {},
   "outputs": [
    {
     "name": "stdout",
     "output_type": "stream",
     "text": [
      "the AUC score is 0.5473289684116477\n",
      "              precision    recall  f1-score   support\n",
      "\n",
      "           0       0.48      0.43      0.45      6233\n",
      "           1       0.62      0.67      0.64      8561\n",
      "\n",
      "    accuracy                           0.57     14794\n",
      "   macro avg       0.55      0.55      0.55     14794\n",
      "weighted avg       0.56      0.57      0.56     14794\n",
      "\n",
      "              precision    recall  f1-score   support\n",
      "\n",
      "           0       0.82      0.73      0.77     15306\n",
      "           1       0.80      0.88      0.84     19212\n",
      "\n",
      "    accuracy                           0.81     34518\n",
      "   macro avg       0.81      0.80      0.80     34518\n",
      "weighted avg       0.81      0.81      0.81     34518\n",
      "\n"
     ]
    }
   ],
   "source": [
    "from sklearn.metrics import roc_auc_score, classification_report\n",
    "\n",
    "\n",
    "# print(precision_score(y_pred,y_test))\n",
    "# # print(recall_score(model.predict(X_test,batch_size=1024),y_test))\n",
    "print ('the AUC score is {}'.format(roc_auc_score(y_test,lg_model.predict(X_test))))\n",
    "print(classification_report(y_test,lg_model.predict(X_test)))\n",
    "print(classification_report(y_train,lg_model.predict(X_train)))"
   ]
  },
  {
   "cell_type": "code",
   "execution_count": 27,
   "id": "b167d624-d008-4166-88b7-efe1ab92b2b4",
   "metadata": {},
   "outputs": [],
   "source": [
    "grams = [''] * len(lg_model['cv'].vocabulary_)\n",
    "for k, v in lg_model['cv'].vocabulary_.items():\n",
    "    grams[v] = k"
   ]
  },
  {
   "cell_type": "code",
   "execution_count": 28,
   "id": "43c617c7-08e5-4e01-8854-8a4bddcb3306",
   "metadata": {},
   "outputs": [],
   "source": [
    "gram_weight = list(zip(grams, lg_model['lg'].coef_[0]))\n",
    "gram_weight.sort(key=lambda x: x[1])"
   ]
  },
  {
   "cell_type": "code",
   "execution_count": 29,
   "id": "3938e98a-e095-42fe-ba61-0ea650d93eaf",
   "metadata": {},
   "outputs": [
    {
     "data": {
      "text/plain": [
       "[('leido', -2.0168313850345947),\n",
       " ('spotlight on', -1.9306086410798264),\n",
       " ('luminar', -1.9149366492663824),\n",
       " ('mahindra', -1.8946421036076606),\n",
       " ('catal', -1.8327193646611617)]"
      ]
     },
     "execution_count": 29,
     "metadata": {},
     "output_type": "execute_result"
    }
   ],
   "source": [
    "gram_weight[:5]"
   ]
  },
  {
   "cell_type": "code",
   "execution_count": 30,
   "id": "3e9ac3eb-05f2-4dce-b09c-4e49a4742f45",
   "metadata": {},
   "outputs": [
    {
     "data": {
      "text/plain": [
       "[('novemb 12th', 1.820898994556641),\n",
       " ('shed', 1.864482260481145),\n",
       " ('acceleron', 1.9368496107198616),\n",
       " ('wind', 1.9737304635710902),\n",
       " ('mull', 2.1932304585114677)]"
      ]
     },
     "execution_count": 30,
     "metadata": {},
     "output_type": "execute_result"
    }
   ],
   "source": [
    "gram_weight[-5:]"
   ]
  },
  {
   "cell_type": "code",
   "execution_count": 31,
   "id": "522faec7-5e28-41c7-8223-f70be5a98687",
   "metadata": {},
   "outputs": [],
   "source": [
    "from sklearn.feature_extraction.text import TfidfVectorizer\n",
    "tfidf = TfidfVectorizer(\n",
    "                        tokenizer=stem_tokenizer,\n",
    "                        lowercase=True,\n",
    "                        max_df=0.5,\n",
    "                        min_df=20,\n",
    "                        ngram_range=(1, 2)\n",
    "                       )"
   ]
  },
  {
   "cell_type": "code",
   "execution_count": 32,
   "id": "71eb3525-9e07-4293-bf0e-9cc8133b495b",
   "metadata": {},
   "outputs": [],
   "source": [
    "lgclassifier = Pipeline([('tfidf', tfidf), ('lg', LogisticRegression(max_iter = 1000))])"
   ]
  },
  {
   "cell_type": "code",
   "execution_count": 33,
   "id": "f5e2bcaf-94de-4275-ab98-793817af0c4e",
   "metadata": {},
   "outputs": [
    {
     "data": {
      "text/plain": [
       "Pipeline(steps=[('tfidf',\n",
       "                 TfidfVectorizer(max_df=0.5, min_df=20, ngram_range=(1, 2),\n",
       "                                 tokenizer=<function stem_tokenizer at 0x1230363a0>)),\n",
       "                ('lg', LogisticRegression(max_iter=1000))])"
      ]
     },
     "execution_count": 33,
     "metadata": {},
     "output_type": "execute_result"
    }
   ],
   "source": [
    "lgclassifier.fit(X_train,y_train)"
   ]
  },
  {
   "cell_type": "code",
   "execution_count": 34,
   "id": "a8065038-b0f5-4725-b287-c6ffcb9a978a",
   "metadata": {},
   "outputs": [
    {
     "name": "stdout",
     "output_type": "stream",
     "text": [
      "the AUC score is 0.5473289684116477\n",
      "              precision    recall  f1-score   support\n",
      "\n",
      "           0       0.48      0.43      0.45      6233\n",
      "           1       0.62      0.67      0.64      8561\n",
      "\n",
      "    accuracy                           0.57     14794\n",
      "   macro avg       0.55      0.55      0.55     14794\n",
      "weighted avg       0.56      0.57      0.56     14794\n",
      "\n",
      "              precision    recall  f1-score   support\n",
      "\n",
      "           0       0.82      0.73      0.77     15306\n",
      "           1       0.80      0.88      0.84     19212\n",
      "\n",
      "    accuracy                           0.81     34518\n",
      "   macro avg       0.81      0.80      0.80     34518\n",
      "weighted avg       0.81      0.81      0.81     34518\n",
      "\n"
     ]
    }
   ],
   "source": [
    "from sklearn.metrics import roc_auc_score, classification_report\n",
    "\n",
    "\n",
    "# print(precision_score(y_pred,y_test))\n",
    "# # print(recall_score(model.predict(X_test,batch_size=1024),y_test))\n",
    "print ('the AUC score is {}'.format(roc_auc_score(y_test,lg_model.predict(X_test))))\n",
    "print(classification_report(y_test,lg_model.predict(X_test)))\n",
    "print(classification_report(y_train,lg_model.predict(X_train)))"
   ]
  },
  {
   "cell_type": "code",
   "execution_count": null,
   "id": "b6c0616b-fe7c-4e93-803e-4b7238a93ccf",
   "metadata": {},
   "outputs": [],
   "source": []
  },
  {
   "cell_type": "code",
   "execution_count": 35,
   "id": "b8179f30-3aaf-45fc-aa95-10f9b18926fb",
   "metadata": {},
   "outputs": [],
   "source": [
    "grams = [''] * len(lgclassifier['tfidf'].vocabulary_)\n",
    "for k, v in lgclassifier['tfidf'].vocabulary_.items():\n",
    "    grams[v] = k"
   ]
  },
  {
   "cell_type": "code",
   "execution_count": 36,
   "id": "fdbda4f6-e1f8-4231-a396-bfc99b78d64c",
   "metadata": {},
   "outputs": [],
   "source": [
    "gram_weight = list(zip(grams, lgclassifier['lg'].coef_[0]))\n",
    "gram_weight.sort(key=lambda x: x[1])"
   ]
  },
  {
   "cell_type": "code",
   "execution_count": 37,
   "id": "812d3e08-114b-4318-abb8-c310fc19858e",
   "metadata": {},
   "outputs": [
    {
     "data": {
      "text/plain": [
       "[('adob', -3.486986846923328),\n",
       " ('fedex', -3.366559608577321),\n",
       " ('facebook', -3.0191612424994356),\n",
       " ('trump', -2.7967020238226286),\n",
       " ('gener electr', -2.695593577984043)]"
      ]
     },
     "execution_count": 37,
     "metadata": {},
     "output_type": "execute_result"
    }
   ],
   "source": [
    "gram_weight[:5]"
   ]
  },
  {
   "cell_type": "code",
   "execution_count": 38,
   "id": "42a20db3-80ff-4a09-9603-9c5f10f4ca67",
   "metadata": {},
   "outputs": [
    {
     "data": {
      "text/plain": [
       "[('recal', 2.1451759781812934),\n",
       " ('viru', 2.2458607159071393),\n",
       " ('microsoft', 2.2537974880640346),\n",
       " ('ford', 2.2727909431988573),\n",
       " ('acceleron', 2.2777906979677787)]"
      ]
     },
     "execution_count": 38,
     "metadata": {},
     "output_type": "execute_result"
    }
   ],
   "source": [
    "gram_weight[-5:]"
   ]
  },
  {
   "cell_type": "code",
   "execution_count": null,
   "id": "8b38a691-b6d3-433d-8034-6309388907a6",
   "metadata": {},
   "outputs": [],
   "source": []
  }
 ],
 "metadata": {
  "kernelspec": {
   "display_name": "Python 3 (ipykernel)",
   "language": "python",
   "name": "python3"
  },
  "language_info": {
   "codemirror_mode": {
    "name": "ipython",
    "version": 3
   },
   "file_extension": ".py",
   "mimetype": "text/x-python",
   "name": "python",
   "nbconvert_exporter": "python",
   "pygments_lexer": "ipython3",
   "version": "3.9.10"
  }
 },
 "nbformat": 4,
 "nbformat_minor": 5
}
